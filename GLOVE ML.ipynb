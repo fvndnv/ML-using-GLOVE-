{
 "cells": [
  {
   "cell_type": "code",
   "execution_count": 52,
   "metadata": {},
   "outputs": [],
   "source": [
    "import pandas as pd\n",
    "import numpy as np\n",
    "import os \n",
    "import re"
   ]
  },
  {
   "cell_type": "code",
   "execution_count": 53,
   "metadata": {},
   "outputs": [
    {
     "data": {
      "text/html": [
       "<div>\n",
       "<style scoped>\n",
       "    .dataframe tbody tr th:only-of-type {\n",
       "        vertical-align: middle;\n",
       "    }\n",
       "\n",
       "    .dataframe tbody tr th {\n",
       "        vertical-align: top;\n",
       "    }\n",
       "\n",
       "    .dataframe thead th {\n",
       "        text-align: right;\n",
       "    }\n",
       "</style>\n",
       "<table border=\"1\" class=\"dataframe\">\n",
       "  <thead>\n",
       "    <tr style=\"text-align: right;\">\n",
       "      <th></th>\n",
       "      <th>category</th>\n",
       "      <th>text</th>\n",
       "    </tr>\n",
       "  </thead>\n",
       "  <tbody>\n",
       "    <tr>\n",
       "      <th>0</th>\n",
       "      <td>tech</td>\n",
       "      <td>tv future in the hands of viewers with home th...</td>\n",
       "    </tr>\n",
       "    <tr>\n",
       "      <th>1</th>\n",
       "      <td>business</td>\n",
       "      <td>worldcom boss  left books alone  former worldc...</td>\n",
       "    </tr>\n",
       "    <tr>\n",
       "      <th>2</th>\n",
       "      <td>sport</td>\n",
       "      <td>tigers wary of farrell  gamble  leicester say ...</td>\n",
       "    </tr>\n",
       "    <tr>\n",
       "      <th>3</th>\n",
       "      <td>sport</td>\n",
       "      <td>yeading face newcastle in fa cup premiership s...</td>\n",
       "    </tr>\n",
       "    <tr>\n",
       "      <th>4</th>\n",
       "      <td>entertainment</td>\n",
       "      <td>ocean s twelve raids box office ocean s twelve...</td>\n",
       "    </tr>\n",
       "  </tbody>\n",
       "</table>\n",
       "</div>"
      ],
      "text/plain": [
       "        category                                               text\n",
       "0           tech  tv future in the hands of viewers with home th...\n",
       "1       business  worldcom boss  left books alone  former worldc...\n",
       "2          sport  tigers wary of farrell  gamble  leicester say ...\n",
       "3          sport  yeading face newcastle in fa cup premiership s...\n",
       "4  entertainment  ocean s twelve raids box office ocean s twelve..."
      ]
     },
     "execution_count": 53,
     "metadata": {},
     "output_type": "execute_result"
    }
   ],
   "source": [
    "data=pd.read_csv(\"bbc-text.csv\")\n",
    "data.head()"
   ]
  },
  {
   "cell_type": "code",
   "execution_count": 54,
   "metadata": {},
   "outputs": [],
   "source": [
    "cols=data.columns.tolist()\n",
    "cols=cols[-1:]+cols[:-1]\n",
    "data=data[cols]"
   ]
  },
  {
   "cell_type": "code",
   "execution_count": 55,
   "metadata": {},
   "outputs": [
    {
     "data": {
      "text/html": [
       "<div>\n",
       "<style scoped>\n",
       "    .dataframe tbody tr th:only-of-type {\n",
       "        vertical-align: middle;\n",
       "    }\n",
       "\n",
       "    .dataframe tbody tr th {\n",
       "        vertical-align: top;\n",
       "    }\n",
       "\n",
       "    .dataframe thead th {\n",
       "        text-align: right;\n",
       "    }\n",
       "</style>\n",
       "<table border=\"1\" class=\"dataframe\">\n",
       "  <thead>\n",
       "    <tr style=\"text-align: right;\">\n",
       "      <th></th>\n",
       "      <th>text</th>\n",
       "      <th>category</th>\n",
       "    </tr>\n",
       "  </thead>\n",
       "  <tbody>\n",
       "    <tr>\n",
       "      <th>0</th>\n",
       "      <td>tv future in the hands of viewers with home th...</td>\n",
       "      <td>tech</td>\n",
       "    </tr>\n",
       "    <tr>\n",
       "      <th>1</th>\n",
       "      <td>worldcom boss  left books alone  former worldc...</td>\n",
       "      <td>business</td>\n",
       "    </tr>\n",
       "    <tr>\n",
       "      <th>2</th>\n",
       "      <td>tigers wary of farrell  gamble  leicester say ...</td>\n",
       "      <td>sport</td>\n",
       "    </tr>\n",
       "    <tr>\n",
       "      <th>3</th>\n",
       "      <td>yeading face newcastle in fa cup premiership s...</td>\n",
       "      <td>sport</td>\n",
       "    </tr>\n",
       "    <tr>\n",
       "      <th>4</th>\n",
       "      <td>ocean s twelve raids box office ocean s twelve...</td>\n",
       "      <td>entertainment</td>\n",
       "    </tr>\n",
       "  </tbody>\n",
       "</table>\n",
       "</div>"
      ],
      "text/plain": [
       "                                                text       category\n",
       "0  tv future in the hands of viewers with home th...           tech\n",
       "1  worldcom boss  left books alone  former worldc...       business\n",
       "2  tigers wary of farrell  gamble  leicester say ...          sport\n",
       "3  yeading face newcastle in fa cup premiership s...          sport\n",
       "4  ocean s twelve raids box office ocean s twelve...  entertainment"
      ]
     },
     "execution_count": 55,
     "metadata": {},
     "output_type": "execute_result"
    }
   ],
   "source": [
    "data.head()"
   ]
  },
  {
   "cell_type": "code",
   "execution_count": 56,
   "metadata": {},
   "outputs": [
    {
     "data": {
      "text/html": [
       "<div>\n",
       "<style scoped>\n",
       "    .dataframe tbody tr th:only-of-type {\n",
       "        vertical-align: middle;\n",
       "    }\n",
       "\n",
       "    .dataframe tbody tr th {\n",
       "        vertical-align: top;\n",
       "    }\n",
       "\n",
       "    .dataframe thead th {\n",
       "        text-align: right;\n",
       "    }\n",
       "</style>\n",
       "<table border=\"1\" class=\"dataframe\">\n",
       "  <thead>\n",
       "    <tr style=\"text-align: right;\">\n",
       "      <th></th>\n",
       "      <th>.</th>\n",
       "      <th>of</th>\n",
       "    </tr>\n",
       "  </thead>\n",
       "  <tbody>\n",
       "    <tr>\n",
       "      <th>1</th>\n",
       "      <td>0.15164</td>\n",
       "      <td>0.70853</td>\n",
       "    </tr>\n",
       "    <tr>\n",
       "      <th>2</th>\n",
       "      <td>0.30177</td>\n",
       "      <td>0.57088</td>\n",
       "    </tr>\n",
       "    <tr>\n",
       "      <th>3</th>\n",
       "      <td>-0.16763</td>\n",
       "      <td>-0.47160</td>\n",
       "    </tr>\n",
       "    <tr>\n",
       "      <th>4</th>\n",
       "      <td>0.17684</td>\n",
       "      <td>0.18048</td>\n",
       "    </tr>\n",
       "    <tr>\n",
       "      <th>5</th>\n",
       "      <td>0.31719</td>\n",
       "      <td>0.54449</td>\n",
       "    </tr>\n",
       "  </tbody>\n",
       "</table>\n",
       "</div>"
      ],
      "text/plain": [
       "0        .       of\n",
       "1  0.15164  0.70853\n",
       "2  0.30177  0.57088\n",
       "3 -0.16763 -0.47160\n",
       "4  0.17684  0.18048\n",
       "5  0.31719  0.54449"
      ]
     },
     "execution_count": 56,
     "metadata": {},
     "output_type": "execute_result"
    }
   ],
   "source": [
    "df=pd.read_csv(\"glove.6B.50d.txt\", sep=\" \", quoting=3, header=None, index_col=0)\n",
    "df.T.iloc[0:5,2:4]"
   ]
  },
  {
   "cell_type": "code",
   "execution_count": 68,
   "metadata": {},
   "outputs": [
    {
     "data": {
      "text/plain": [
       "(400000, 50, 50, 400000)"
      ]
     },
     "execution_count": 68,
     "metadata": {},
     "output_type": "execute_result"
    }
   ],
   "source": [
    "df.shape[0], df.shape[1], df.T.shape[0], df.T.shape[1]"
   ]
  },
  {
   "cell_type": "code",
   "execution_count": 57,
   "metadata": {},
   "outputs": [
    {
     "name": "stdout",
     "output_type": "stream",
     "text": [
      "Shape of vector representation of 'cake': 50\n"
     ]
    }
   ],
   "source": [
    "# make a dictionary of glove\n",
    "glove={key:val.values for key,val in df.T.items()}\n",
    "# print shape of a vector\n",
    "print('Shape of vector representation of \\'cake\\':', len(glove['cake']))"
   ]
  },
  {
   "cell_type": "code",
   "execution_count": 69,
   "metadata": {},
   "outputs": [
    {
     "data": {
      "text/plain": [
       "array([ 0.069443 ,  0.76897  , -0.52978  ,  0.084142 ,  1.1945   ,\n",
       "        0.37776  , -0.34614  ,  0.089619 ,  0.030415 ,  0.14648  ,\n",
       "       -0.51823  , -0.11561  ,  1.2622   ,  1.0821   ,  0.35248  ,\n",
       "        0.10658  ,  0.0088652, -0.039198 ,  0.52789  , -1.1781   ,\n",
       "        0.79956  , -0.49779  ,  1.1323   ,  0.06991  ,  0.0053372,\n",
       "        0.049828 , -1.0271   ,  1.0131   ,  1.2817   , -0.45057  ,\n",
       "        1.529    , -0.31407  , -1.4749   ,  1.7196   , -0.29891  ,\n",
       "        0.20966  , -0.3686   ,  1.333    ,  0.97123  , -0.50428  ,\n",
       "        0.66221  ,  0.10779  , -0.69917  , -0.62049  ,  0.25486  ,\n",
       "        0.84102  ,  0.20349  , -1.0346   , -0.074467 , -0.23133  ])"
      ]
     },
     "execution_count": 69,
     "metadata": {},
     "output_type": "execute_result"
    }
   ],
   "source": [
    "glove['cake']"
   ]
  },
  {
   "cell_type": "code",
   "execution_count": 58,
   "metadata": {},
   "outputs": [],
   "source": [
    "import pickle\n",
    "\n",
    "with open('glove.6B.50d.pkl', 'wb') as fp:\n",
    "    # save the pickle file to disk\n",
    "    pickle.dump(glove, fp)"
   ]
  },
  {
   "cell_type": "code",
   "execution_count": 31,
   "metadata": {},
   "outputs": [
    {
     "data": {
      "text/plain": [
       "399998"
      ]
     },
     "execution_count": 31,
     "metadata": {},
     "output_type": "execute_result"
    }
   ],
   "source": [
    "len(glove)"
   ]
  },
  {
   "cell_type": "code",
   "execution_count": 60,
   "metadata": {},
   "outputs": [
    {
     "data": {
      "text/plain": [
       "399998"
      ]
     },
     "execution_count": 60,
     "metadata": {},
     "output_type": "execute_result"
    }
   ],
   "source": [
    "len(glove.keys())"
   ]
  },
  {
   "cell_type": "code",
   "execution_count": 50,
   "metadata": {},
   "outputs": [
    {
     "name": "stdout",
     "output_type": "stream",
     "text": [
      "First 10 entries in the dictionary:\n"
     ]
    },
    {
     "data": {
      "text/plain": [
       "[(0, 'the'),\n",
       " (1, ','),\n",
       " (2, '.'),\n",
       " (3, 'of'),\n",
       " (4, 'to'),\n",
       " (5, 'and'),\n",
       " (6, 'in'),\n",
       " (7, 'a'),\n",
       " (8, '\"'),\n",
       " (9, \"'s\")]"
      ]
     },
     "execution_count": 50,
     "metadata": {},
     "output_type": "execute_result"
    }
   ],
   "source": [
    "def generate_inverse_dictionary():\n",
    "    ids=[x for x in range(len(glove))]\n",
    "    \n",
    "    inverse_dict={v:k for k,v in zip(glove.keys(), ids)}\n",
    "    \n",
    "    return inverse_dict\n",
    "\n",
    "\n",
    "print('First 10 entries in the dictionary:') \n",
    "list(generate_inverse_dictionary().items())[:10]"
   ]
  },
  {
   "cell_type": "code",
   "execution_count": 46,
   "metadata": {},
   "outputs": [
    {
     "data": {
      "text/plain": [
       "[('prince', 0.8236179693335699),\n",
       " ('queen', 0.7839043010964116),\n",
       " ('ii', 0.7746230030635105),\n",
       " ('emperor', 0.7736247624872924)]"
      ]
     },
     "execution_count": 46,
     "metadata": {},
     "output_type": "execute_result"
    }
   ],
   "source": [
    "# find most similar words; given a context word\n",
    "\n",
    "def most_similar(word_vec, ntop=5):\n",
    "    inverse_dictionary=generate_inverse_dictionary()\n",
    "        # fetch glove vectors\n",
    "    word_vectors=list(glove.values())\n",
    "    \n",
    "    # compute cosine_similarity\n",
    "    cosine_similarity = (np.dot(word_vectors, word_vec)\n",
    "           / np.linalg.norm(word_vectors, axis=1)\n",
    "           / np.linalg.norm(word_vec))\n",
    "    \n",
    "    # sort the word ids in descending order based on their similarity score\n",
    "    word_ids = np.argsort(-cosine_similarity)\n",
    "    \n",
    "        # return the most similar words with their similarity score\n",
    "\n",
    "    return [(inverse_dictionary[x], cosine_similarity[x]) for x in word_ids[1:ntop] if x in inverse_dictionary]\n",
    "\n",
    "most_similar(glove['king'])"
   ]
  },
  {
   "cell_type": "code",
   "execution_count": 47,
   "metadata": {},
   "outputs": [
    {
     "data": {
      "text/plain": [
       "[('drive', 0.7521311772461619),\n",
       " ('drives', 0.7406034998194793),\n",
       " ('vehicle', 0.7290996539480401),\n",
       " ('truck', 0.7106720612617872)]"
      ]
     },
     "execution_count": 47,
     "metadata": {},
     "output_type": "execute_result"
    }
   ],
   "source": [
    "# find airplane - fly + drive\n",
    "result = glove['airplane'] - glove['fly'] + glove['drive']\n",
    "# find most similar to result\n",
    "most_similar(result)"
   ]
  },
  {
   "cell_type": "code",
   "execution_count": 49,
   "metadata": {},
   "outputs": [],
   "source": [
    "import pickle\n",
    "\n",
    "with open('glove.6B.50d.pkl', 'rb') as fp:\n",
    "    # load glove from disk \n",
    "    glove = pickle.load(fp)"
   ]
  },
  {
   "cell_type": "code",
   "execution_count": 51,
   "metadata": {},
   "outputs": [],
   "source": [
    "def get_embedding_glove(tokens):\n",
    "    embedding=[]\n",
    "    for token in tokens:\n",
    "        if token in glove:\n",
    "            embedding.append(glove[token])\n",
    "            \n",
    "        return np.mean(embeddings, axis=0)"
   ]
  },
  {
   "cell_type": "code",
   "execution_count": null,
   "metadata": {},
   "outputs": [],
   "source": [
    "from gensim.utils import simple_preprocess\n",
    "\n",
    "# preprocess all the articles of the data set\n",
    "preprocessed_bbc = bbc_news.text.apply(lambda x: simple_preprocess(x))\n",
    "\n",
    "# create X from glove\n",
    "X = preprocessed_bbc.apply(lambda x: get_embedding_glove(x))\n",
    "X = pd.DataFrame(X.tolist())\n",
    "print('X shape:', X.shape)"
   ]
  },
  {
   "cell_type": "code",
   "execution_count": null,
   "metadata": {},
   "outputs": [],
   "source": [
    "## rest is same as we do in other models"
   ]
  }
 ],
 "metadata": {
  "kernelspec": {
   "display_name": "Python 3",
   "language": "python",
   "name": "python3"
  },
  "language_info": {
   "codemirror_mode": {
    "name": "ipython",
    "version": 3
   },
   "file_extension": ".py",
   "mimetype": "text/x-python",
   "name": "python",
   "nbconvert_exporter": "python",
   "pygments_lexer": "ipython3",
   "version": "3.7.3"
  }
 },
 "nbformat": 4,
 "nbformat_minor": 2
}
